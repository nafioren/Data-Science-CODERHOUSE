{
 "cells": [
  {
   "cell_type": "code",
   "execution_count": 2,
   "id": "3cf7af0f",
   "metadata": {},
   "outputs": [],
   "source": [
    "import numpy as np\n",
    "import pandas as pd"
   ]
  },
  {
   "cell_type": "code",
   "execution_count": 3,
   "id": "76649b00",
   "metadata": {},
   "outputs": [
    {
     "name": "stdout",
     "output_type": "stream",
     "text": [
      "Se llenará un array de 100 elementos con numeros random del 0 al 20\n",
      "La mediana es: 9.0\n"
     ]
    }
   ],
   "source": [
    "def numeros_random(maximo,cantidad):\n",
    "    rand_array = np.random.randint(maximo,size=(1,cantidad))\n",
    "    print('Se llenará un array de '+ str(cantidad) +' elementos con numeros random del 0 al ' + str(maximo))\n",
    "    # print(rand_array)\n",
    "    print('La mediana es: ' + str(np.median(rand_array) ))\n",
    "\n",
    "numeros_random(20, 100)"
   ]
  },
  {
   "cell_type": "code",
   "execution_count": 4,
   "id": "98d0308f",
   "metadata": {},
   "outputs": [
    {
     "name": "stdout",
     "output_type": "stream",
     "text": [
      "El factorial de 4 es: 24\n"
     ]
    }
   ],
   "source": [
    "def factorial(numero = int):\n",
    "    if numero<= 0 or type(numero)!= int:\n",
    "        print('Error! Debe ser un numero positivo y entero')\n",
    "        return\n",
    "    array = np.array(range(1,numero +1))\n",
    "    resultado = np.prod(array)\n",
    "    print('El factorial de '+ str(numero) + ' es: '+ str(resultado))\n",
    "    \n",
    "factorial(4)"
   ]
  },
  {
   "cell_type": "code",
   "execution_count": 5,
   "id": "9d33d90c",
   "metadata": {},
   "outputs": [
    {
     "name": "stdout",
     "output_type": "stream",
     "text": [
      "La sumatoria desde 8 hasta 30 es 437\n"
     ]
    }
   ],
   "source": [
    "def sumatoria(n1,n2):\n",
    "    if n1>n2 or n1<0 or n2<0:\n",
    "        print('Error. Ambos numeros deben ser positivos y el segundo debe ser mayor al primero')\n",
    "        return\n",
    "    array = np.array(range(n1,n2+1))\n",
    "    resultado = array.sum()\n",
    "    print('La sumatoria desde %g hasta %g es %g' % (n1,n2,resultado))\n",
    "    \n",
    "sumatoria(8,30)"
   ]
  },
  {
   "cell_type": "code",
   "execution_count": 6,
   "id": "bd153b05",
   "metadata": {},
   "outputs": [
    {
     "name": "stdout",
     "output_type": "stream",
     "text": [
      "La mediana es:      78000\n",
      "La media es:        94907.9\n",
      "La diferencia es:   16907.9\n"
     ]
    }
   ],
   "source": [
    "gSheet_url = 'https://docs.google.com/spreadsheets/d/15Stnum8mI9QdwF9ZiPFCe3_qG9XyZyNzmOSIDunzPjA/export?format=csv&gid=255849258'\n",
    "\n",
    "def mediana_salarios(export_url):\n",
    "    salarios = pd.read_csv(export_url)\n",
    "    salarios = salarios[salarios['Estoy trabajando en']=='Argentina'][['Salario mensual NETO (en tu moneda local)']].copy().astype(float)\n",
    "    # salarios = salarios.convert_objects(convert_numeric=True).dropna()\n",
    "    mediana = salarios.median()\n",
    "    media = salarios.mean()\n",
    "    print('La mediana es:      %g' % mediana)\n",
    "    print('La media es:        %g' % media)\n",
    "    print('La diferencia es:   %g' % abs(media-mediana))\n",
    "\n",
    "mediana_salarios(gSheet_url)"
   ]
  },
  {
   "cell_type": "code",
   "execution_count": null,
   "id": "b0acfb17",
   "metadata": {},
   "outputs": [],
   "source": []
  },
  {
   "cell_type": "code",
   "execution_count": null,
   "id": "2293433b",
   "metadata": {},
   "outputs": [],
   "source": []
  }
 ],
 "metadata": {
  "kernelspec": {
   "display_name": "Python 3 (ipykernel)",
   "language": "python",
   "name": "python3"
  },
  "language_info": {
   "codemirror_mode": {
    "name": "ipython",
    "version": 3
   },
   "file_extension": ".py",
   "mimetype": "text/x-python",
   "name": "python",
   "nbconvert_exporter": "python",
   "pygments_lexer": "ipython3",
   "version": "3.9.5"
  }
 },
 "nbformat": 4,
 "nbformat_minor": 5
}
