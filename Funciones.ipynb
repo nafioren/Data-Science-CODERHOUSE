{
 "cells": [
  {
   "cell_type": "code",
   "execution_count": 1,
   "id": "af6fd9fd",
   "metadata": {},
   "outputs": [
    {
     "name": "stdout",
     "output_type": "stream",
     "text": [
      "Calculando el factorial de 9:\n",
      "Mi función dice que es:      362880\n",
      "Haciendo el cálculo manual:  362880\n"
     ]
    }
   ],
   "source": [
    "#Factorial\n",
    "\n",
    "def fact(num):\n",
    "  if num < 0:\n",
    "    return 'Error: debe introducir un número mayor a 0'\n",
    "  total = 1\n",
    "  for i in range(1,num + 1):\n",
    "    total *= i\n",
    "  return total\n",
    "\n",
    "print('Calculando el factorial de 9:')\n",
    "print('Mi función dice que es:     ', fact(9))\n",
    "print('Haciendo el cálculo manual: ', str(9*8*7*6*5*4*3*2*1))"
   ]
  },
  {
   "cell_type": "code",
   "execution_count": null,
   "id": "d689d45b",
   "metadata": {},
   "outputs": [],
   "source": [
    "  #Sumatoria\n",
    "\n",
    "\n",
    "\n",
    "def sumatoria(min, max):\n",
    "  total = 0\n",
    "  # si se quiere que ambos sean positivos se puede agregar la siguiente condición\n",
    "  # if min > 0 or max<0:\n",
    "  #   return 'Error: Los números deben ser positivos'\n",
    "  if max < min:\n",
    "    return 'Error: el primer número debe ser menor o igual al segundo'\n",
    "\n",
    "  for i in range (min, max+1):\n",
    "    total += i\n",
    "  return total\n",
    "\n",
    "print('Calculando la sumatoria del 5 al 9: ')\n",
    "print('Mi función dice que es:     ', sumatoria(5,9))\n",
    "print('Haciendo el cálculo manual: ', str(5+6+7+8+9))"
   ]
  }
 ],
 "metadata": {
  "kernelspec": {
   "display_name": "Python 3 (ipykernel)",
   "language": "python",
   "name": "python3"
  },
  "language_info": {
   "codemirror_mode": {
    "name": "ipython",
    "version": 3
   },
   "file_extension": ".py",
   "mimetype": "text/x-python",
   "name": "python",
   "nbconvert_exporter": "python",
   "pygments_lexer": "ipython3",
   "version": "3.9.5"
  }
 },
 "nbformat": 4,
 "nbformat_minor": 5
}
